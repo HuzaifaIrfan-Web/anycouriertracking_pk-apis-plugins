{
 "cells": [
  {
   "cell_type": "code",
   "execution_count": 22,
   "id": "0a332c02",
   "metadata": {},
   "outputs": [],
   "source": [
    "\n",
    "from bs4 import BeautifulSoup\n",
    "\n",
    "import uuid\n",
    "\n",
    "import time\n",
    "\n",
    "from selenium import webdriver\n",
    "from selenium.webdriver.common.by import By\n",
    "from selenium.webdriver.support.ui import WebDriverWait\n",
    "from selenium.webdriver.support import expected_conditions as EC\n",
    "\n",
    "from selenium.webdriver.firefox.options import Options as FirefoxOptions\n",
    "\n",
    "firefox_opt = FirefoxOptions()\n",
    "# firefox_opt.add_argument(\"--headless\")\n",
    "firefox_opt.set_preference('permissions.default.stylesheet', 2)\n",
    "firefox_opt.set_preference('permissions.default.image', 2)\n",
    "firefox_opt.set_preference('dom.ipc.plugins.enabled.libflashplayer.so', 'false')\n",
    "\n",
    "\n",
    "from selenium.webdriver.chrome.options import Options\n",
    "chrome_opt = Options()\n",
    "# chrome_opt.add_argument('--headless')\n",
    "chrome_opt.add_argument('--no-sandbox')\n",
    "chrome_opt.add_argument('--disable-dev-sh--usage')\n"
   ]
  },
  {
   "cell_type": "code",
   "execution_count": 23,
   "id": "fd368019",
   "metadata": {},
   "outputs": [],
   "source": [
    "tracking_number_text='P501687103'\n"
   ]
  },
  {
   "cell_type": "code",
   "execution_count": 24,
   "id": "6ce85cec",
   "metadata": {},
   "outputs": [],
   "source": [
    "url='https://www.madhurcouriers.in/CNoteTracking'\n",
    "\n",
    "# url=url+str(tracking_number_text)"
   ]
  },
  {
   "cell_type": "code",
   "execution_count": 25,
   "id": "008a983f",
   "metadata": {},
   "outputs": [],
   "source": [
    "# driver = webdriver.Firefox(options=firefox_opt)\n",
    "driver = webdriver.Chrome(options=chrome_opt)\n"
   ]
  },
  {
   "cell_type": "code",
   "execution_count": 26,
   "id": "a95fc18b",
   "metadata": {},
   "outputs": [],
   "source": [
    "driver.get(url)"
   ]
  },
  {
   "cell_type": "code",
   "execution_count": 27,
   "id": "3506a7d4",
   "metadata": {},
   "outputs": [],
   "source": [
    "\n",
    "\n",
    "eleUserMessage = driver.find_element(By.ID, \"ContentPlaceHolder1_txtCNote\")\n",
    "eleUserMessage.clear()\n",
    "eleUserMessage.send_keys(tracking_number_text)"
   ]
  },
  {
   "cell_type": "code",
   "execution_count": 28,
   "id": "e130b5dc",
   "metadata": {},
   "outputs": [],
   "source": [
    "driver.find_element(By.ID , \"ContentPlaceHolder1_btnSearch\").click()"
   ]
  },
  {
   "cell_type": "code",
   "execution_count": 32,
   "id": "7ca2741b",
   "metadata": {},
   "outputs": [],
   "source": []
  },
  {
   "cell_type": "code",
   "execution_count": null,
   "id": "87e49d2b",
   "metadata": {},
   "outputs": [],
   "source": []
  },
  {
   "cell_type": "code",
   "execution_count": 29,
   "id": "98647b14",
   "metadata": {},
   "outputs": [],
   "source": [
    "from selenium.webdriver.common.by import By\n",
    "from selenium.webdriver.support.ui import WebDriverWait\n",
    "from selenium.webdriver.support import expected_conditions as EC"
   ]
  },
  {
   "cell_type": "code",
   "execution_count": 30,
   "id": "4895e5df",
   "metadata": {},
   "outputs": [],
   "source": [
    "# body = driver.find_element(By.TAG_NAME , \"body\")\n",
    "\n",
    "body = driver.find_element(By.ID , \"ContentPlaceHolder1_gvBookings\")\n"
   ]
  },
  {
   "cell_type": "code",
   "execution_count": 31,
   "id": "88ce4640",
   "metadata": {},
   "outputs": [],
   "source": [
    "innerHtml=body.get_attribute('innerHTML')"
   ]
  },
  {
   "cell_type": "code",
   "execution_count": 32,
   "id": "6a7741e5",
   "metadata": {},
   "outputs": [],
   "source": [
    "from bs4 import BeautifulSoup\n",
    "soup = BeautifulSoup(innerHtml, 'html.parser')"
   ]
  },
  {
   "cell_type": "code",
   "execution_count": 33,
   "id": "ec191d67",
   "metadata": {},
   "outputs": [
    {
     "data": {
      "text/plain": [
       "\n",
       "<tbody><tr>\n",
       "<th scope=\"col\">Sr.No</th><th scope=\"col\">Date</th><th scope=\"col\">Transaction Type</th><th scope=\"col\">Status</th><th scope=\"col\">Remark</th><th scope=\"col\">Branch Detail</th>\n",
       "</tr><tr>\n",
       "<td>\n",
       "<span id=\"ContentPlaceHolder1_gvBookings_Label1_0\">1</span>\n",
       "</td><td>\n",
       "<span id=\"ContentPlaceHolder1_gvBookings_lblDate_0\">27-Feb-2020</span>\n",
       "</td><td>\n",
       "<span id=\"ContentPlaceHolder1_gvBookings_lblDocType_0\">BOOKING</span>\n",
       "</td><td>\n",
       "<span id=\"ContentPlaceHolder1_gvBookings_lblStatus_0\">PARCEL BOOKED BY DELHI FROM DELHI TO SIDHI Consignor:  Consignee:  Pcs:1</span>\n",
       "</td><td>\n",
       "<span id=\"ContentPlaceHolder1_gvBookings_lblRemark_0\"></span>\n",
       "</td><td>\n",
       "<a href='javascript:WebForm_DoPostBackWithOptions(new WebForm_PostBackOptions(\"ctl00$ContentPlaceHolder1$gvBookings$ctl02$lnkFrom\", \"\", true, \"\", \"\", false, true))' id=\"ContentPlaceHolder1_gvBookings_lnkFrom_0\">VAISHNAVI ENT(ALIGARH)</a> \n",
       "                                        | \n",
       "                                        <a href='javascript:WebForm_DoPostBackWithOptions(new WebForm_PostBackOptions(\"ctl00$ContentPlaceHolder1$gvBookings$ctl02$lnkTo\", \"\", true, \"\", \"\", false, true))' id=\"ContentPlaceHolder1_gvBookings_lnkTo_0\"></a>\n",
       "</td>\n",
       "</tr><tr>\n",
       "<td>\n",
       "<span id=\"ContentPlaceHolder1_gvBookings_Label1_1\">2</span>\n",
       "</td><td>\n",
       "<span id=\"ContentPlaceHolder1_gvBookings_lblDate_1\">27-Feb-2020</span>\n",
       "</td><td>\n",
       "<span id=\"ContentPlaceHolder1_gvBookings_lblDocType_1\"> PARCEL DISPATCH</span>\n",
       "</td><td>\n",
       "<span id=\"ContentPlaceHolder1_gvBookings_lblStatus_1\">Forwarded FROM DELHI TO BHOPAL for SIDHI Location By Surface Pcs: 1</span>\n",
       "</td><td>\n",
       "<span id=\"ContentPlaceHolder1_gvBookings_lblRemark_1\"></span>\n",
       "</td><td>\n",
       "<a href='javascript:WebForm_DoPostBackWithOptions(new WebForm_PostBackOptions(\"ctl00$ContentPlaceHolder1$gvBookings$ctl03$lnkFrom\", \"\", true, \"\", \"\", false, true))' id=\"ContentPlaceHolder1_gvBookings_lnkFrom_1\">DELHI</a> \n",
       "                                        | \n",
       "                                        <a href='javascript:WebForm_DoPostBackWithOptions(new WebForm_PostBackOptions(\"ctl00$ContentPlaceHolder1$gvBookings$ctl03$lnkTo\", \"\", true, \"\", \"\", false, true))' id=\"ContentPlaceHolder1_gvBookings_lnkTo_1\">BHOPAL</a>\n",
       "</td>\n",
       "</tr><tr>\n",
       "<td>\n",
       "<span id=\"ContentPlaceHolder1_gvBookings_Label1_2\">3</span>\n",
       "</td><td>\n",
       "<span id=\"ContentPlaceHolder1_gvBookings_lblDate_2\">29-Feb-2020</span>\n",
       "</td><td>\n",
       "<span id=\"ContentPlaceHolder1_gvBookings_lblDocType_2\">PARCEL RECEIVED</span>\n",
       "</td><td>\n",
       "<span id=\"ContentPlaceHolder1_gvBookings_lblStatus_2\">RECEIVED IN BHOPAL FROM DELHI FOR SIDHI Location  Pcs:1</span>\n",
       "</td><td>\n",
       "<span id=\"ContentPlaceHolder1_gvBookings_lblRemark_2\"></span>\n",
       "</td><td>\n",
       "<a href='javascript:WebForm_DoPostBackWithOptions(new WebForm_PostBackOptions(\"ctl00$ContentPlaceHolder1$gvBookings$ctl04$lnkFrom\", \"\", true, \"\", \"\", false, true))' id=\"ContentPlaceHolder1_gvBookings_lnkFrom_2\">BHOPAL</a> \n",
       "                                        | \n",
       "                                        <a href='javascript:WebForm_DoPostBackWithOptions(new WebForm_PostBackOptions(\"ctl00$ContentPlaceHolder1$gvBookings$ctl04$lnkTo\", \"\", true, \"\", \"\", false, true))' id=\"ContentPlaceHolder1_gvBookings_lnkTo_2\">DELHI</a>\n",
       "</td>\n",
       "</tr><tr>\n",
       "<td>\n",
       "<span id=\"ContentPlaceHolder1_gvBookings_Label1_3\">4</span>\n",
       "</td><td>\n",
       "<span id=\"ContentPlaceHolder1_gvBookings_lblDate_3\">29-Feb-2020</span>\n",
       "</td><td>\n",
       "<span id=\"ContentPlaceHolder1_gvBookings_lblDocType_3\"> PARCEL DISPATCH</span>\n",
       "</td><td>\n",
       "<span id=\"ContentPlaceHolder1_gvBookings_lblStatus_3\">Forwarded FROM BHOPAL TO JABALPUR for SIDHI Location By Surface Pcs: 1</span>\n",
       "</td><td>\n",
       "<span id=\"ContentPlaceHolder1_gvBookings_lblRemark_3\"></span>\n",
       "</td><td>\n",
       "<a href='javascript:WebForm_DoPostBackWithOptions(new WebForm_PostBackOptions(\"ctl00$ContentPlaceHolder1$gvBookings$ctl05$lnkFrom\", \"\", true, \"\", \"\", false, true))' id=\"ContentPlaceHolder1_gvBookings_lnkFrom_3\">BHOPAL</a> \n",
       "                                        | \n",
       "                                        <a href='javascript:WebForm_DoPostBackWithOptions(new WebForm_PostBackOptions(\"ctl00$ContentPlaceHolder1$gvBookings$ctl05$lnkTo\", \"\", true, \"\", \"\", false, true))' id=\"ContentPlaceHolder1_gvBookings_lnkTo_3\">JABALPUR</a>\n",
       "</td>\n",
       "</tr><tr>\n",
       "<td>\n",
       "<span id=\"ContentPlaceHolder1_gvBookings_Label1_4\">5</span>\n",
       "</td><td>\n",
       "<span id=\"ContentPlaceHolder1_gvBookings_lblDate_4\">02-Mar-2020</span>\n",
       "</td><td>\n",
       "<span id=\"ContentPlaceHolder1_gvBookings_lblDocType_4\">PARCEL RECEIVED</span>\n",
       "</td><td>\n",
       "<span id=\"ContentPlaceHolder1_gvBookings_lblStatus_4\">RECEIVED IN JABALPUR FROM BHOPAL FOR SIDHI Location  Pcs:1</span>\n",
       "</td><td>\n",
       "<span id=\"ContentPlaceHolder1_gvBookings_lblRemark_4\"></span>\n",
       "</td><td>\n",
       "<a href='javascript:WebForm_DoPostBackWithOptions(new WebForm_PostBackOptions(\"ctl00$ContentPlaceHolder1$gvBookings$ctl06$lnkFrom\", \"\", true, \"\", \"\", false, true))' id=\"ContentPlaceHolder1_gvBookings_lnkFrom_4\">JABALPUR</a> \n",
       "                                        | \n",
       "                                        <a href='javascript:WebForm_DoPostBackWithOptions(new WebForm_PostBackOptions(\"ctl00$ContentPlaceHolder1$gvBookings$ctl06$lnkTo\", \"\", true, \"\", \"\", false, true))' id=\"ContentPlaceHolder1_gvBookings_lnkTo_4\">BHOPAL</a>\n",
       "</td>\n",
       "</tr><tr>\n",
       "<td>\n",
       "<span id=\"ContentPlaceHolder1_gvBookings_Label1_5\">6</span>\n",
       "</td><td>\n",
       "<span id=\"ContentPlaceHolder1_gvBookings_lblDate_5\">02-Mar-2020</span>\n",
       "</td><td>\n",
       "<span id=\"ContentPlaceHolder1_gvBookings_lblDocType_5\"> PARCEL DISPATCH</span>\n",
       "</td><td>\n",
       "<span id=\"ContentPlaceHolder1_gvBookings_lblStatus_5\">Forwarded FROM JABALPUR TO REWA for SIDHI Location By Surface Pcs: 1</span>\n",
       "</td><td>\n",
       "<span id=\"ContentPlaceHolder1_gvBookings_lblRemark_5\"></span>\n",
       "</td><td>\n",
       "<a href='javascript:WebForm_DoPostBackWithOptions(new WebForm_PostBackOptions(\"ctl00$ContentPlaceHolder1$gvBookings$ctl07$lnkFrom\", \"\", true, \"\", \"\", false, true))' id=\"ContentPlaceHolder1_gvBookings_lnkFrom_5\">JABALPUR</a> \n",
       "                                        | \n",
       "                                        <a href='javascript:WebForm_DoPostBackWithOptions(new WebForm_PostBackOptions(\"ctl00$ContentPlaceHolder1$gvBookings$ctl07$lnkTo\", \"\", true, \"\", \"\", false, true))' id=\"ContentPlaceHolder1_gvBookings_lnkTo_5\">REWA</a>\n",
       "</td>\n",
       "</tr><tr>\n",
       "<td>\n",
       "<span id=\"ContentPlaceHolder1_gvBookings_Label1_6\">7</span>\n",
       "</td><td>\n",
       "<span id=\"ContentPlaceHolder1_gvBookings_lblDate_6\">03-Mar-2020</span>\n",
       "</td><td>\n",
       "<span id=\"ContentPlaceHolder1_gvBookings_lblDocType_6\">PARCEL RECEIVED</span>\n",
       "</td><td>\n",
       "<span id=\"ContentPlaceHolder1_gvBookings_lblStatus_6\">RECEIVED IN REWA FROM JABALPUR FOR SIDHI Location  Pcs:1</span>\n",
       "</td><td>\n",
       "<span id=\"ContentPlaceHolder1_gvBookings_lblRemark_6\">PHATA</span>\n",
       "</td><td>\n",
       "<a href='javascript:WebForm_DoPostBackWithOptions(new WebForm_PostBackOptions(\"ctl00$ContentPlaceHolder1$gvBookings$ctl08$lnkFrom\", \"\", true, \"\", \"\", false, true))' id=\"ContentPlaceHolder1_gvBookings_lnkFrom_6\">REWA</a> \n",
       "                                        | \n",
       "                                        <a href='javascript:WebForm_DoPostBackWithOptions(new WebForm_PostBackOptions(\"ctl00$ContentPlaceHolder1$gvBookings$ctl08$lnkTo\", \"\", true, \"\", \"\", false, true))' id=\"ContentPlaceHolder1_gvBookings_lnkTo_6\">JABALPUR</a>\n",
       "</td>\n",
       "</tr><tr>\n",
       "<td>\n",
       "<span id=\"ContentPlaceHolder1_gvBookings_Label1_7\">8</span>\n",
       "</td><td>\n",
       "<span id=\"ContentPlaceHolder1_gvBookings_lblDate_7\">03-Mar-2020</span>\n",
       "</td><td>\n",
       "<span id=\"ContentPlaceHolder1_gvBookings_lblDocType_7\"> PARCEL DISPATCH</span>\n",
       "</td><td>\n",
       "<span id=\"ContentPlaceHolder1_gvBookings_lblStatus_7\">Forwarded FROM REWA TO SIDHI for SIDHI Location By Surface Pcs: 1</span>\n",
       "</td><td>\n",
       "<span id=\"ContentPlaceHolder1_gvBookings_lblRemark_7\"></span>\n",
       "</td><td>\n",
       "<a href='javascript:WebForm_DoPostBackWithOptions(new WebForm_PostBackOptions(\"ctl00$ContentPlaceHolder1$gvBookings$ctl09$lnkFrom\", \"\", true, \"\", \"\", false, true))' id=\"ContentPlaceHolder1_gvBookings_lnkFrom_7\">REWA</a> \n",
       "                                        | \n",
       "                                        <a href='javascript:WebForm_DoPostBackWithOptions(new WebForm_PostBackOptions(\"ctl00$ContentPlaceHolder1$gvBookings$ctl09$lnkTo\", \"\", true, \"\", \"\", false, true))' id=\"ContentPlaceHolder1_gvBookings_lnkTo_7\">SIDHI</a>\n",
       "</td>\n",
       "</tr><tr>\n",
       "<td>\n",
       "<span id=\"ContentPlaceHolder1_gvBookings_Label1_8\">9</span>\n",
       "</td><td>\n",
       "<span id=\"ContentPlaceHolder1_gvBookings_lblDate_8\">06-Mar-2020</span>\n",
       "</td><td>\n",
       "<span id=\"ContentPlaceHolder1_gvBookings_lblDocType_8\">OUT FOR DELIVERY</span>\n",
       "</td><td>\n",
       "<span id=\"ContentPlaceHolder1_gvBookings_lblStatus_8\">SENT TO OFFICE IN SIDHI BY OFFICE  Mobile No:9752892200 Pcs:1</span>\n",
       "</td><td>\n",
       "<span id=\"ContentPlaceHolder1_gvBookings_lblRemark_8\"></span>\n",
       "</td><td>\n",
       "<a href='javascript:WebForm_DoPostBackWithOptions(new WebForm_PostBackOptions(\"ctl00$ContentPlaceHolder1$gvBookings$ctl10$lnkFrom\", \"\", true, \"\", \"\", false, true))' id=\"ContentPlaceHolder1_gvBookings_lnkFrom_8\">SIDHI</a> \n",
       "                                        | \n",
       "                                        <a href='javascript:WebForm_DoPostBackWithOptions(new WebForm_PostBackOptions(\"ctl00$ContentPlaceHolder1$gvBookings$ctl10$lnkTo\", \"\", true, \"\", \"\", false, true))' id=\"ContentPlaceHolder1_gvBookings_lnkTo_8\"></a>\n",
       "</td>\n",
       "</tr><tr>\n",
       "<td>\n",
       "<span id=\"ContentPlaceHolder1_gvBookings_Label1_9\">10</span>\n",
       "</td><td>\n",
       "<span id=\"ContentPlaceHolder1_gvBookings_lblDate_9\">06-Mar-2020</span>\n",
       "</td><td>\n",
       "<span id=\"ContentPlaceHolder1_gvBookings_lblDocType_9\">RUNSHEET UPDATE</span>\n",
       "</td><td style=\"background-color:LightGreen;\">\n",
       "<span id=\"ContentPlaceHolder1_gvBookings_lblStatus_9\">DELIVERED TO   AREA:OFFICE IN SIDHI BY OFFICE  Pcs:1</span>\n",
       "</td><td>\n",
       "<span id=\"ContentPlaceHolder1_gvBookings_lblRemark_9\"></span>\n",
       "</td><td>\n",
       "<a href='javascript:WebForm_DoPostBackWithOptions(new WebForm_PostBackOptions(\"ctl00$ContentPlaceHolder1$gvBookings$ctl11$lnkFrom\", \"\", true, \"\", \"\", false, true))' id=\"ContentPlaceHolder1_gvBookings_lnkFrom_9\">SIDHI</a> \n",
       "                                        | \n",
       "                                        <a href='javascript:WebForm_DoPostBackWithOptions(new WebForm_PostBackOptions(\"ctl00$ContentPlaceHolder1$gvBookings$ctl11$lnkTo\", \"\", true, \"\", \"\", false, true))' id=\"ContentPlaceHolder1_gvBookings_lnkTo_9\"></a>\n",
       "</td>\n",
       "</tr>\n",
       "</tbody>"
      ]
     },
     "execution_count": 33,
     "metadata": {},
     "output_type": "execute_result"
    }
   ],
   "source": [
    "soup"
   ]
  },
  {
   "cell_type": "code",
   "execution_count": null,
   "id": "7a44155d",
   "metadata": {},
   "outputs": [],
   "source": []
  },
  {
   "cell_type": "code",
   "execution_count": 34,
   "id": "fb30d49d",
   "metadata": {},
   "outputs": [],
   "source": [
    "trs=soup.find_all(\"tr\")"
   ]
  },
  {
   "cell_type": "code",
   "execution_count": 35,
   "id": "8dd0cb84",
   "metadata": {},
   "outputs": [
    {
     "name": "stdout",
     "output_type": "stream",
     "text": [
      "no\n"
     ]
    }
   ],
   "source": [
    "track_histories=[]\n",
    "\n",
    "for tr in trs:\n",
    "    tds=tr.find_all(\"td\")\n",
    "   \n",
    "    # for td in tds:\n",
    "    try:\n",
    "\n",
    "        # print(tds[0].text.strip())\n",
    "        # print(tds[1].text.strip())\n",
    "        # print(tds[2].text.strip())\n",
    "        # print(tds[3].text.strip())\n",
    "        # print(tds[4].text.strip())\n",
    "\n",
    "        track_history=[tds[0].text.strip(),tds[1].text.strip(),tds[2].text.strip(),tds[3].text.strip(),tds[4].text.strip()]\n",
    "\n",
    "        track_histories.append(track_history)\n",
    "\n",
    "\n",
    "    except:\n",
    "        print('no')\n",
    "    # try:\n",
    "    #     DELIVERY_STATUS.append(tds[1].text)\n",
    "    # except:\n",
    "    #     pass\n",
    "\n",
    "    "
   ]
  },
  {
   "cell_type": "code",
   "execution_count": 36,
   "id": "63da05d6",
   "metadata": {},
   "outputs": [
    {
     "data": {
      "text/plain": [
       "[['1',\n",
       "  '27-Feb-2020',\n",
       "  'BOOKING',\n",
       "  'PARCEL BOOKED BY DELHI FROM DELHI TO SIDHI Consignor:  Consignee:  Pcs:1',\n",
       "  ''],\n",
       " ['2',\n",
       "  '27-Feb-2020',\n",
       "  'PARCEL DISPATCH',\n",
       "  'Forwarded FROM DELHI TO BHOPAL for SIDHI Location By Surface Pcs: 1',\n",
       "  ''],\n",
       " ['3',\n",
       "  '29-Feb-2020',\n",
       "  'PARCEL RECEIVED',\n",
       "  'RECEIVED IN BHOPAL FROM DELHI FOR SIDHI Location  Pcs:1',\n",
       "  ''],\n",
       " ['4',\n",
       "  '29-Feb-2020',\n",
       "  'PARCEL DISPATCH',\n",
       "  'Forwarded FROM BHOPAL TO JABALPUR for SIDHI Location By Surface Pcs: 1',\n",
       "  ''],\n",
       " ['5',\n",
       "  '02-Mar-2020',\n",
       "  'PARCEL RECEIVED',\n",
       "  'RECEIVED IN JABALPUR FROM BHOPAL FOR SIDHI Location  Pcs:1',\n",
       "  ''],\n",
       " ['6',\n",
       "  '02-Mar-2020',\n",
       "  'PARCEL DISPATCH',\n",
       "  'Forwarded FROM JABALPUR TO REWA for SIDHI Location By Surface Pcs: 1',\n",
       "  ''],\n",
       " ['7',\n",
       "  '03-Mar-2020',\n",
       "  'PARCEL RECEIVED',\n",
       "  'RECEIVED IN REWA FROM JABALPUR FOR SIDHI Location  Pcs:1',\n",
       "  'PHATA'],\n",
       " ['8',\n",
       "  '03-Mar-2020',\n",
       "  'PARCEL DISPATCH',\n",
       "  'Forwarded FROM REWA TO SIDHI for SIDHI Location By Surface Pcs: 1',\n",
       "  ''],\n",
       " ['9',\n",
       "  '06-Mar-2020',\n",
       "  'OUT FOR DELIVERY',\n",
       "  'SENT TO OFFICE IN SIDHI BY OFFICE  Mobile No:9752892200 Pcs:1',\n",
       "  ''],\n",
       " ['10',\n",
       "  '06-Mar-2020',\n",
       "  'RUNSHEET UPDATE',\n",
       "  'DELIVERED TO   AREA:OFFICE IN SIDHI BY OFFICE  Pcs:1',\n",
       "  '']]"
      ]
     },
     "execution_count": 36,
     "metadata": {},
     "output_type": "execute_result"
    }
   ],
   "source": [
    "track_histories"
   ]
  },
  {
   "cell_type": "code",
   "execution_count": 37,
   "id": "31ae207a",
   "metadata": {},
   "outputs": [],
   "source": [
    "return_obj={'tnum':tracking_number_text,'track_histories':track_histories}"
   ]
  },
  {
   "cell_type": "code",
   "execution_count": 38,
   "id": "6a06827d",
   "metadata": {},
   "outputs": [
    {
     "data": {
      "text/plain": [
       "{'tnum': 'P501687103',\n",
       " 'track_histories': [['1',\n",
       "   '27-Feb-2020',\n",
       "   'BOOKING',\n",
       "   'PARCEL BOOKED BY DELHI FROM DELHI TO SIDHI Consignor:  Consignee:  Pcs:1',\n",
       "   ''],\n",
       "  ['2',\n",
       "   '27-Feb-2020',\n",
       "   'PARCEL DISPATCH',\n",
       "   'Forwarded FROM DELHI TO BHOPAL for SIDHI Location By Surface Pcs: 1',\n",
       "   ''],\n",
       "  ['3',\n",
       "   '29-Feb-2020',\n",
       "   'PARCEL RECEIVED',\n",
       "   'RECEIVED IN BHOPAL FROM DELHI FOR SIDHI Location  Pcs:1',\n",
       "   ''],\n",
       "  ['4',\n",
       "   '29-Feb-2020',\n",
       "   'PARCEL DISPATCH',\n",
       "   'Forwarded FROM BHOPAL TO JABALPUR for SIDHI Location By Surface Pcs: 1',\n",
       "   ''],\n",
       "  ['5',\n",
       "   '02-Mar-2020',\n",
       "   'PARCEL RECEIVED',\n",
       "   'RECEIVED IN JABALPUR FROM BHOPAL FOR SIDHI Location  Pcs:1',\n",
       "   ''],\n",
       "  ['6',\n",
       "   '02-Mar-2020',\n",
       "   'PARCEL DISPATCH',\n",
       "   'Forwarded FROM JABALPUR TO REWA for SIDHI Location By Surface Pcs: 1',\n",
       "   ''],\n",
       "  ['7',\n",
       "   '03-Mar-2020',\n",
       "   'PARCEL RECEIVED',\n",
       "   'RECEIVED IN REWA FROM JABALPUR FOR SIDHI Location  Pcs:1',\n",
       "   'PHATA'],\n",
       "  ['8',\n",
       "   '03-Mar-2020',\n",
       "   'PARCEL DISPATCH',\n",
       "   'Forwarded FROM REWA TO SIDHI for SIDHI Location By Surface Pcs: 1',\n",
       "   ''],\n",
       "  ['9',\n",
       "   '06-Mar-2020',\n",
       "   'OUT FOR DELIVERY',\n",
       "   'SENT TO OFFICE IN SIDHI BY OFFICE  Mobile No:9752892200 Pcs:1',\n",
       "   ''],\n",
       "  ['10',\n",
       "   '06-Mar-2020',\n",
       "   'RUNSHEET UPDATE',\n",
       "   'DELIVERED TO   AREA:OFFICE IN SIDHI BY OFFICE  Pcs:1',\n",
       "   '']]}"
      ]
     },
     "execution_count": 38,
     "metadata": {},
     "output_type": "execute_result"
    }
   ],
   "source": [
    "return_obj"
   ]
  }
 ],
 "metadata": {
  "interpreter": {
   "hash": "66e8bf95e292ade856dd77b6ddbe3e4b1b60ffb85bf48f503c57bd4ca38cd30d"
  },
  "kernelspec": {
   "display_name": "Python 3.9.8 64-bit",
   "name": "python3"
  },
  "language_info": {
   "codemirror_mode": {
    "name": "ipython",
    "version": 3
   },
   "file_extension": ".py",
   "mimetype": "text/x-python",
   "name": "python",
   "nbconvert_exporter": "python",
   "pygments_lexer": "ipython3",
   "version": "3.8.10"
  }
 },
 "nbformat": 4,
 "nbformat_minor": 5
}
