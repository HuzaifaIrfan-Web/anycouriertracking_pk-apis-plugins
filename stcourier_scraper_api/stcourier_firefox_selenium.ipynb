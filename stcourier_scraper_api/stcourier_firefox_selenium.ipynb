{
 "cells": [
  {
   "cell_type": "code",
   "execution_count": 3,
   "id": "0a332c02",
   "metadata": {},
   "outputs": [],
   "source": [
    "\n",
    "from bs4 import BeautifulSoup\n",
    "\n",
    "import uuid\n",
    "\n",
    "import time\n",
    "\n",
    "from selenium import webdriver\n",
    "from selenium.webdriver.common.by import By\n",
    "from selenium.webdriver.support.ui import WebDriverWait\n",
    "from selenium.webdriver.support import expected_conditions as EC\n",
    "\n",
    "from selenium.webdriver.firefox.options import Options as FirefoxOptions\n",
    "\n",
    "firefox_opt = FirefoxOptions()\n",
    "# firefox_opt.add_argument(\"--headless\")\n",
    "# firefox_opt.set_preference('permissions.default.stylesheet', 2)\n",
    "# firefox_opt.set_preference('permissions.default.image', 2)\n",
    "# firefox_opt.set_preference('dom.ipc.plugins.enabled.libflashplayer.so', 'false')\n"
   ]
  },
  {
   "cell_type": "code",
   "execution_count": 4,
   "id": "99c95d07",
   "metadata": {},
   "outputs": [],
   "source": [
    "def return_captcha_image(driver):\n",
    "    captcha_image=driver.find_element_by_xpath('//*[@id=\"captchaimg\"]').screenshot_as_png\n",
    "    while(len(captcha_image)< 200):\n",
    "        len(captcha_image)\n",
    "        captcha_image=driver.find_element_by_xpath('//*[@id=\"captchaimg\"]').screenshot_as_png\n",
    "\n",
    "    return captcha_image\n",
    "\n",
    "\n",
    "\n"
   ]
  },
  {
   "cell_type": "code",
   "execution_count": 5,
   "id": "ec7f7a78",
   "metadata": {},
   "outputs": [],
   "source": [
    "import uuid\n",
    "import os\n",
    "\n",
    "\n",
    "def save_captcha_image(captcha_image):\n",
    "\n",
    "    tmp_captchas_folder='tmp/captchas'\n",
    "\n",
    "    if not os.path.exists(tmp_captchas_folder):\n",
    "        os.makedirs(tmp_captchas_folder)\n",
    "    captcha_file_name = str(uuid.uuid4())\n",
    "\n",
    "    captcha_path=f'{tmp_captchas_folder}/{captcha_file_name}.png'\n",
    "\n",
    "    with open(captcha_path, 'wb') as file:\n",
    "        file.write(captcha_image)\n",
    "    \n",
    "    print(captcha_path)\n",
    "    return captcha_path\n",
    "\n"
   ]
  },
  {
   "cell_type": "code",
   "execution_count": 6,
   "id": "f796d0d3",
   "metadata": {},
   "outputs": [],
   "source": [
    "\n",
    "def use_captcha_solution(driver, captcha_solution):\n",
    "    # eleUserMessage = driver.find_element_by_id(\"track_no\")\n",
    "    eleUserMessage = driver.find_element(By.ID, \"captcha_code\")\n",
    "    eleUserMessage.clear()\n",
    "    eleUserMessage.send_keys(captcha_solution)\n",
    "\n",
    "\n",
    "    # driver.find_element_by_id('btnload').click()\n",
    "    driver.find_element(By.ID , \"SEARCH\").click()\n",
    "\n",
    "\n",
    "\n",
    "\n"
   ]
  },
  {
   "cell_type": "code",
   "execution_count": 7,
   "id": "7479b079",
   "metadata": {},
   "outputs": [],
   "source": [
    "import time\n",
    "\n",
    "def check_validation(driver):\n",
    "    time.sleep(3)\n",
    "\n",
    "    try:\n",
    "\n",
    "        warning_text=driver.find_element_by_xpath('//*[@class=\"alert text-center alert-warning\"]')\n",
    "        print(warning_text.text)\n",
    "        return False\n",
    "\n",
    "    except:\n",
    "        print('Validation correct')\n",
    "        return True\n",
    "    \n",
    "\n",
    "\n",
    "    "
   ]
  },
  {
   "cell_type": "code",
   "execution_count": 8,
   "id": "50112ea1",
   "metadata": {},
   "outputs": [],
   "source": [
    "from stcourier_captcha_solver import captcha_solver"
   ]
  },
  {
   "cell_type": "code",
   "execution_count": 10,
   "id": "fd368019",
   "metadata": {},
   "outputs": [],
   "source": [
    "tracking_number_text=63346811006\n"
   ]
  },
  {
   "cell_type": "code",
   "execution_count": 11,
   "id": "6ce85cec",
   "metadata": {},
   "outputs": [],
   "source": [
    "url='http://www.erpstcourier.com/awb_tracking2.php?keyword='\n",
    "\n",
    "url=url+str(tracking_number_text)"
   ]
  },
  {
   "cell_type": "code",
   "execution_count": 9,
   "id": "008a983f",
   "metadata": {},
   "outputs": [],
   "source": [
    "# driver = webdriver.Firefox(options=firefox_opt)\n"
   ]
  },
  {
   "cell_type": "code",
   "execution_count": 28,
   "id": "a95fc18b",
   "metadata": {},
   "outputs": [
    {
     "ename": "AttributeError",
     "evalue": "'NoneType' object has no attribute 'find_elements_by_tag_name'",
     "output_type": "error",
     "traceback": [
      "\u001b[0;31m---------------------------------------------------------------------------\u001b[0m",
      "\u001b[0;31mAttributeError\u001b[0m                            Traceback (most recent call last)",
      "\u001b[0;32m<ipython-input-28-0a9b757d2a8f>\u001b[0m in \u001b[0;36m<module>\u001b[0;34m\u001b[0m\n\u001b[0;32m----> 1\u001b[0;31m \u001b[0mbody\u001b[0m \u001b[0;34m=\u001b[0m \u001b[0mdriver\u001b[0m\u001b[0;34m.\u001b[0m\u001b[0mfind_elements_by_tag_name\u001b[0m\u001b[0;34m(\u001b[0m\u001b[0;34m'body'\u001b[0m\u001b[0;34m)\u001b[0m\u001b[0;34m\u001b[0m\u001b[0;34m\u001b[0m\u001b[0m\n\u001b[0m",
      "\u001b[0;31mAttributeError\u001b[0m: 'NoneType' object has no attribute 'find_elements_by_tag_name'"
     ]
    }
   ],
   "source": []
  },
  {
   "cell_type": "code",
   "execution_count": 32,
   "id": "7ca2741b",
   "metadata": {},
   "outputs": [],
   "source": [
    "def track():\n",
    "\n",
    "    driver = webdriver.Remote(\n",
    "    command_executor=\"http://127.0.0.1:4444/wd/hub\",\n",
    "    desired_capabilities={\n",
    "                \"browserName\": \"firefox\",\n",
    "            })\n",
    "\n",
    "\n",
    "    driver.get(url)\n",
    "    running=True\n",
    "    while(running):\n",
    "\n",
    "        captcha_image=return_captcha_image(driver)\n",
    "        captcha_path=save_captcha_image(captcha_image)\n",
    "        captcha_solution = captcha_solver(captcha_path)[1]\n",
    "        print(captcha_solution)\n",
    "        use_captcha_solution(driver,captcha_solution)\n",
    "        running = not check_validation(driver)\n",
    "    \n",
    "    return driver\n",
    "\n",
    "    # driver.quit()"
   ]
  },
  {
   "cell_type": "code",
   "execution_count": 33,
   "id": "87e49d2b",
   "metadata": {},
   "outputs": [
    {
     "name": "stdout",
     "output_type": "stream",
     "text": [
      "tmp/captchas/4eacf772-45ba-4dd1-b040-89dfc66558b8.png\n",
      "tmp/captchas/4eacf772-45ba-4dd1-b040-89dfc66558b8.png\n",
      "zsyt\n",
      "Validation correct\n"
     ]
    }
   ],
   "source": [
    "\n",
    "\n",
    "driver= track()"
   ]
  },
  {
   "cell_type": "code",
   "execution_count": 34,
   "id": "98647b14",
   "metadata": {},
   "outputs": [],
   "source": [
    "from selenium.webdriver.common.by import By\n",
    "from selenium.webdriver.support.ui import WebDriverWait\n",
    "from selenium.webdriver.support import expected_conditions as EC"
   ]
  },
  {
   "cell_type": "code",
   "execution_count": 35,
   "id": "4895e5df",
   "metadata": {},
   "outputs": [],
   "source": [
    "body = driver.find_element(By.TAG_NAME , \"body\")"
   ]
  },
  {
   "cell_type": "code",
   "execution_count": 37,
   "id": "88ce4640",
   "metadata": {},
   "outputs": [],
   "source": [
    "innerHtml=body.get_attribute('innerHTML')"
   ]
  },
  {
   "cell_type": "code",
   "execution_count": 115,
   "id": "6a7741e5",
   "metadata": {},
   "outputs": [],
   "source": [
    "from bs4 import BeautifulSoup\n",
    "soup = BeautifulSoup(innerHtml, 'html.parser')"
   ]
  },
  {
   "cell_type": "code",
   "execution_count": 44,
   "id": "7a44155d",
   "metadata": {},
   "outputs": [
    {
     "data": {
      "text/plain": [
       "<table class=\"table-bordered table font-12 table-striped table-hover color-bordered-table success-bordered-table\">\n",
       "<thead><tr><th class=\"text-center uppercase\" colspan=\"2\">Delivery Status</th></tr></thead>\n",
       "<tbody><tr><td width=\"35%\">Current Status</td><td class=\"font-normal\" width=\"65%\">Delivered</td></tr>\n",
       "<tr><td>Orgin SRC</td><td class=\"font-normal\">TNERD-GPI</td></tr>\n",
       "<tr><td>Destination </td><td class=\"font-normal\">KABLR-SRH</td></tr>\n",
       "<tr><td>Consignment </td><td class=\"font-normal\">Dox - 1 Nos</td></tr>\n",
       "<tr><td>Book Date/Time</td><td class=\"font-normal\">17-08-2021 12:50 AM</td></tr>\n",
       "<tr><td>Delivery Date/Time</td><td class=\"font-normal\">17-08-2021 6:04 PM</td></tr>\n",
       "</tbody></table>"
      ]
     },
     "execution_count": 44,
     "metadata": {},
     "output_type": "execute_result"
    }
   ],
   "source": [
    "DELIVERY_STATUS_el=soup.find(\"table\")\n",
    "DELIVERY_STATUS_el"
   ]
  },
  {
   "cell_type": "code",
   "execution_count": 51,
   "id": "fb30d49d",
   "metadata": {},
   "outputs": [],
   "source": [
    "trs=DELIVERY_STATUS_el.find_all(\"tr\")"
   ]
  },
  {
   "cell_type": "code",
   "execution_count": 60,
   "id": "8dd0cb84",
   "metadata": {},
   "outputs": [],
   "source": [
    "DELIVERY_STATUS=[]\n",
    "\n",
    "for tr in trs:\n",
    "    tds=tr.find_all(\"td\")\n",
    "    # print(tds)\n",
    "    # for td in tds:\n",
    "    try:\n",
    "        DELIVERY_STATUS.append(tds[1].text)\n",
    "    except:\n",
    "        pass\n",
    "\n",
    "    "
   ]
  },
  {
   "cell_type": "code",
   "execution_count": 61,
   "id": "63da05d6",
   "metadata": {},
   "outputs": [
    {
     "name": "stdout",
     "output_type": "stream",
     "text": [
      "Delivered\n",
      "TNERD-GPI\n",
      "KABLR-SRH\n",
      "Dox - 1 Nos\n",
      "17-08-2021 12:50 AM\n",
      "17-08-2021 6:04 PM\n"
     ]
    }
   ],
   "source": [
    "for status in DELIVERY_STATUS:\n",
    "    print(status)"
   ]
  },
  {
   "cell_type": "code",
   "execution_count": 66,
   "metadata": {},
   "outputs": [],
   "source": [
    "Current_Status=DELIVERY_STATUS[0]\n",
    "Orgin_SRC=DELIVERY_STATUS[1]\n",
    "Destination=DELIVERY_STATUS[2]\n",
    "Consignment=DELIVERY_STATUS[3]\n",
    "Book_DateTime=DELIVERY_STATUS[4]\n",
    "Delivery_DateTime=DELIVERY_STATUS[5]"
   ]
  },
  {
   "cell_type": "code",
   "execution_count": 129,
   "id": "65701f3b",
   "metadata": {},
   "outputs": [],
   "source": [
    "DELIVERY_STATUS_obj={\n",
    "\n",
    "    \"Current_Status\":Current_Status,\n",
    "\"Orgin_SRC\":Orgin_SRC,\n",
    "\"Destination\":Destination,\n",
    "\"Consignment\":Consignment,\n",
    "\"Book_DateTime\":Book_DateTime,\n",
    "\"Delivery_DateTime\":Delivery_DateTime,\n",
    "\n",
    "}\n"
   ]
  },
  {
   "cell_type": "code",
   "execution_count": 130,
   "id": "7569e714",
   "metadata": {},
   "outputs": [
    {
     "data": {
      "text/plain": [
       "{'Current_Status': 'Delivered',\n",
       " 'Orgin_SRC': 'TNERD-GPI',\n",
       " 'Destination': 'KABLR-SRH',\n",
       " 'Consignment': 'Dox - 1 Nos',\n",
       " 'Book_DateTime': '17-08-2021 12:50 AM',\n",
       " 'Delivery_DateTime': '17-08-2021 6:04 PM'}"
      ]
     },
     "execution_count": 130,
     "metadata": {},
     "output_type": "execute_result"
    }
   ],
   "source": [
    "DELIVERY_STATUS_obj"
   ]
  },
  {
   "cell_type": "code",
   "execution_count": 132,
   "id": "5465e7e2",
   "metadata": {},
   "outputs": [
    {
     "data": {
      "text/plain": [
       "<div class=\"white-box b-l\" style=\"min-height:300px; padding:0px 20px;\">\n",
       "<h4 class=\"m-b-10\">Status of AWB No. <span class=\"font-normal\">63346811006<span></span></span></h4><ul class=\"tracking\">\n",
       "<li>\n",
       "<div class=\"tracking-date\">\n",
       "<div class=\"tracking-body\">\n",
       "<h5 class=\"tracking-title m-b-0\">Aug 17, 2021</h5>\n",
       "<p>06:04 PM</p>\n",
       "</div>\n",
       "</div>\n",
       "<div class=\"tracking-badge success\"><i class=\"fa fa-check-square-o\"></i> </div>\n",
       "<div class=\"tracking-panel\">\n",
       "<div class=\"tracking-body\">\n",
       "<h4 class=\"tracking-title m-b-0\">Delivered to Consignee </h4>\n",
       "<p><span class=\"font-normal\">SR NAGAR HUB BRANCH, KA</span><br/><i class=\"fa fa-user-o\"></i>   NOOR - 9844273443   <i class=\"fa fa-map-marker\"></i>   AIRPORT ROAD</p>\n",
       "</div>\n",
       "</div>\n",
       "</li>\n",
       "<li>\n",
       "<div class=\"tracking-date\">\n",
       "<div class=\"tracking-body\">\n",
       "<h5 class=\"tracking-title m-b-0\">Aug 17, 2021</h5>\n",
       "<p>10:22 AM</p>\n",
       "</div>\n",
       "</div>\n",
       "<div class=\"tracking-badge success\"><i class=\"fa fa-file-text-o\"></i> </div>\n",
       "<div class=\"tracking-panel\">\n",
       "<div class=\"tracking-body\">\n",
       "<h4 class=\"tracking-title m-b-0\">Out for Delivery</h4>\n",
       "<p><span class=\"font-normal\">SR NAGAR HUB BRANCH, KA</span><br/><i class=\"fa fa-user-o\"></i>   NOOR - 9844273443   <i class=\"fa fa-map-marker\"></i>   AIRPORT ROAD</p>\n",
       "</div>\n",
       "</div>\n",
       "</li>\n",
       "<li>\n",
       "<div class=\"tracking-date\">\n",
       "<div class=\"tracking-body\">\n",
       "<h5 class=\"tracking-title m-b-0\">Aug 17, 2021</h5>\n",
       "<p>09:46 AM</p>\n",
       "</div>\n",
       "</div>\n",
       "<div class=\"tracking-badge warning\"><i class=\"fa fa-sign-in\"></i> </div>\n",
       "<div class=\"tracking-panel\">\n",
       "<div class=\"tracking-body\">\n",
       "<h4 class=\"tracking-title m-b-0\">Received at Hub</h4>\n",
       "<p><span class=\"font-normal\">Bangalore hub, KA(CSD - 7019026109- 7019026110-116)</span><br/></p>\n",
       "</div>\n",
       "</div>\n",
       "</li>\n",
       "<li>\n",
       "<div class=\"tracking-date\">\n",
       "<div class=\"tracking-body\">\n",
       "<h5 class=\"tracking-title m-b-0\">Aug 17, 2021</h5>\n",
       "<p>12:50 AM</p>\n",
       "</div>\n",
       "</div>\n",
       "<div class=\"tracking-badge info\"><i class=\"fa fa-truck\"></i> </div>\n",
       "<div class=\"tracking-panel\">\n",
       "<div class=\"tracking-body\">\n",
       "<h4 class=\"tracking-title m-b-0\">Processed &amp; Forwarded to Hub</h4>\n",
       "<p><span class=\"font-normal\">Erode hub, TN   -to-   Bangalore hub, KA(CSD - 7019026109- 7019026110-116)</span><br/></p>\n",
       "</div>\n",
       "</div>\n",
       "</li>\n",
       "</ul> </div>"
      ]
     },
     "execution_count": 132,
     "metadata": {},
     "output_type": "execute_result"
    }
   ],
   "source": [
    "\n",
    "track_history=soup.find(\"div\", class_=\"white-box b-l\")\n",
    "track_history\n",
    "\n"
   ]
  },
  {
   "cell_type": "code",
   "execution_count": 133,
   "id": "1f5fec0b",
   "metadata": {},
   "outputs": [],
   "source": [
    "tracking_number=track_history.find_all(\"h4\")[0].find(\"span\").text"
   ]
  },
  {
   "cell_type": "code",
   "execution_count": 118,
   "id": "9c4e7f43",
   "metadata": {},
   "outputs": [],
   "source": [
    "track_histories_ul=track_history.find(\"ul\", class_=\"tracking\")\n",
    "track_histories_li=track_histories_ul.find_all(\"li\")"
   ]
  },
  {
   "cell_type": "code",
   "execution_count": 137,
   "id": "6ecf6512",
   "metadata": {},
   "outputs": [
    {
     "data": {
      "text/plain": [
       "[{'date': 'Aug 17, 2021',\n",
       "  'time': '06:04 PM',\n",
       "  'tracking_title': 'Delivered to Consignee ',\n",
       "  'span': 'SR NAGAR HUB BRANCH, KA',\n",
       "  'p': 'NOOR - 9844273443 AIRPORT ROAD'},\n",
       " {'date': 'Aug 17, 2021',\n",
       "  'time': '10:22 AM',\n",
       "  'tracking_title': 'Out for Delivery',\n",
       "  'span': 'SR NAGAR HUB BRANCH, KA',\n",
       "  'p': 'NOOR - 9844273443 AIRPORT ROAD'},\n",
       " {'date': 'Aug 17, 2021',\n",
       "  'time': '09:46 AM',\n",
       "  'tracking_title': 'Received at Hub',\n",
       "  'span': 'Bangalore hub, KA(CSD - 7019026109- 7019026110-116)',\n",
       "  'p': ''},\n",
       " {'date': 'Aug 17, 2021',\n",
       "  'time': '12:50 AM',\n",
       "  'tracking_title': 'Processed & Forwarded to Hub',\n",
       "  'span': 'Erode hub, TN \\xa0 -to- \\xa0 Bangalore hub, KA(CSD - 7019026109- 7019026110-116)',\n",
       "  'p': ''}]"
      ]
     },
     "execution_count": 137,
     "metadata": {},
     "output_type": "execute_result"
    }
   ],
   "source": [
    "\n",
    "track_histories=[]\n",
    "\n",
    "for track_history_li in track_histories_li:\n",
    "    date_time=track_history_li.find('div', class_=\"tracking-date\")\n",
    "    date=date_time.find('h5', class_=\"tracking-title\").text\n",
    "    timestr=date_time.find('p').text\n",
    "    # print(date.text)\n",
    "    # print(timestr.text)\n",
    "    \n",
    "\n",
    "    panel=track_history_li.find('div', class_=\"tracking-panel\")\n",
    "    \n",
    "    tracking_title=panel.find('h4').text\n",
    "    # print(tracking_title)\n",
    "\n",
    "    span_el=panel.find('span').text\n",
    "    # print(span_el)\n",
    "\n",
    "    p_el=\" \".join(panel.find('p').text.replace(span_el, \"\").split())\n",
    "    # print(p_el)\n",
    "\n",
    "    track_history={\n",
    "        \"date\":date,\n",
    "        \"time\":timestr,\n",
    "        \"tracking_title\":tracking_title,\n",
    "        \"span\":span_el,\n",
    "        \"p\":p_el,\n",
    "    }\n",
    "\n",
    "    track_histories.append(track_history)\n",
    "\n",
    "track_histories\n"
   ]
  },
  {
   "cell_type": "code",
   "execution_count": 138,
   "id": "64727725",
   "metadata": {},
   "outputs": [],
   "source": [
    "return_obj={\n",
    "    \"tracking_number\":tracking_number,\n",
    "    \"DELIVERY_STATUS\":DELIVERY_STATUS_obj,\n",
    "    \"track_histories\":track_histories\n",
    "}\n"
   ]
  },
  {
   "cell_type": "code",
   "execution_count": 139,
   "id": "fd2172c0",
   "metadata": {},
   "outputs": [
    {
     "data": {
      "text/plain": [
       "{'tracking_number': '63346811006',\n",
       " 'DELIVERY_STATUS': {'Current_Status': 'Delivered',\n",
       "  'Orgin_SRC': 'TNERD-GPI',\n",
       "  'Destination': 'KABLR-SRH',\n",
       "  'Consignment': 'Dox - 1 Nos',\n",
       "  'Book_DateTime': '17-08-2021 12:50 AM',\n",
       "  'Delivery_DateTime': '17-08-2021 6:04 PM'},\n",
       " 'track_histories': [{'date': 'Aug 17, 2021',\n",
       "   'time': '06:04 PM',\n",
       "   'tracking_title': 'Delivered to Consignee ',\n",
       "   'span': 'SR NAGAR HUB BRANCH, KA',\n",
       "   'p': 'NOOR - 9844273443 AIRPORT ROAD'},\n",
       "  {'date': 'Aug 17, 2021',\n",
       "   'time': '10:22 AM',\n",
       "   'tracking_title': 'Out for Delivery',\n",
       "   'span': 'SR NAGAR HUB BRANCH, KA',\n",
       "   'p': 'NOOR - 9844273443 AIRPORT ROAD'},\n",
       "  {'date': 'Aug 17, 2021',\n",
       "   'time': '09:46 AM',\n",
       "   'tracking_title': 'Received at Hub',\n",
       "   'span': 'Bangalore hub, KA(CSD - 7019026109- 7019026110-116)',\n",
       "   'p': ''},\n",
       "  {'date': 'Aug 17, 2021',\n",
       "   'time': '12:50 AM',\n",
       "   'tracking_title': 'Processed & Forwarded to Hub',\n",
       "   'span': 'Erode hub, TN \\xa0 -to- \\xa0 Bangalore hub, KA(CSD - 7019026109- 7019026110-116)',\n",
       "   'p': ''}]}"
      ]
     },
     "execution_count": 139,
     "metadata": {},
     "output_type": "execute_result"
    }
   ],
   "source": [
    "return_obj"
   ]
  },
  {
   "cell_type": "code",
   "execution_count": 23,
   "id": "b7052426",
   "metadata": {},
   "outputs": [
    {
     "name": "stdout",
     "output_type": "stream",
     "text": [
      "tmp/captchas/03905442-b235-4da6-b788-a673d4cb3c7c.png\n",
      "tmp/captchas/03905442-b235-4da6-b788-a673d4cb3c7c.png\n",
      "tmp/captchas/ca6cafba-48fc-4a56-9438-5e30d5a8ef39.png\n",
      "tmp/captchas/ca6cafba-48fc-4a56-9438-5e30d5a8ef39.png\n",
      "wzsm\n",
      "b5p8\n",
      "Validation correct\n",
      "tmp/captchas/7c4b988d-c828-41ea-aa02-27af5033c25f.png\n",
      "tmp/captchas/7c4b988d-c828-41ea-aa02-27af5033c25f.png\n",
      "Validation correct\n",
      "porm\n",
      "tmp/captchas/e4875eb8-81df-4c61-9f24-a77fe54d1dee.png\n",
      "tmp/captchas/e4875eb8-81df-4c61-9f24-a77fe54d1dee.png\n",
      "tmp/captchas/3aa4279c-9f2f-4f55-b5f8-f9aec8bbd9c0.png\n",
      "tmp/captchas/3aa4279c-9f2f-4f55-b5f8-f9aec8bbd9c0.png\n",
      "\n",
      "The Validation code does not match!\n",
      "tmp/captchas/11da95d0-11a8-4356-b42d-bb0dd5e6807a.png\n",
      "tmp/captchas/11da95d0-11a8-4356-b42d-bb0dd5e6807a.png\n",
      "dqs4\n",
      "n2zg\n",
      "Validation correct\n",
      "Validation correct\n",
      "Validation correct\n"
     ]
    }
   ],
   "source": [
    "import threading\n",
    "\n",
    "for i in range(5):\n",
    "    t = threading.Thread(target=track)\n",
    "    t.start()\n",
    "\n",
    "\n"
   ]
  },
  {
   "cell_type": "code",
   "execution_count": null,
   "id": "226da5c9",
   "metadata": {},
   "outputs": [],
   "source": []
  },
  {
   "cell_type": "code",
   "execution_count": null,
   "id": "a883afb6",
   "metadata": {},
   "outputs": [],
   "source": []
  },
  {
   "cell_type": "code",
   "execution_count": null,
   "id": "2d2b03a4",
   "metadata": {},
   "outputs": [
    {
     "name": "stdout",
     "output_type": "stream",
     "text": [
      "status_time not found\n",
      "signed not found\n"
     ]
    }
   ],
   "source": []
  },
  {
   "cell_type": "code",
   "execution_count": null,
   "id": "57fc899a",
   "metadata": {},
   "outputs": [],
   "source": [
    "history=[]\n",
    "\n",
    "table_rows = soup.find_all(\"tr\")\n",
    "\n",
    "for i,row in enumerate(table_rows):\n",
    "    if i==0:\n",
    "        continue\n",
    "\n",
    "    cols = row.find_all(\"td\")\n",
    "\n",
    "\n",
    "    history_obj={'time':cols[0].text,'status':cols[1].text,'location':cols[2].text}\n",
    "\n",
    "    history.append(history_obj)"
   ]
  },
  {
   "cell_type": "code",
   "execution_count": null,
   "id": "5f30b3a6",
   "metadata": {},
   "outputs": [],
   "source": [
    "\n",
    "track_obj={'consignmentNo':track_no,'agent_no':agent_no,'origin':origin,'destination':destination,'booking_date':booking_date,'shipper':shipper,'consignee':consignee,'status':status,'status_time':status_time,'signed':signed,'history':history}\n",
    "\n"
   ]
  },
  {
   "cell_type": "code",
   "execution_count": null,
   "id": "2a1a66e8",
   "metadata": {},
   "outputs": [
    {
     "name": "stdout",
     "output_type": "stream",
     "text": [
      "{'consignmentNo': '30095569487', 'agent_no': 'NA', 'origin': 'KARACHI', 'destination': 'ISLAMABAD', 'booking_date': '19-NOV-21 22:46', 'shipper': 'NAYAPAY (PVT) LTD', 'consignee': 'Muhammad Wasif Laeeq', 'status': 'In Transit', 'status_time': '\\n', 'signed': '', 'history': []}\n"
     ]
    }
   ],
   "source": [
    "print(track_obj)"
   ]
  },
  {
   "cell_type": "code",
   "execution_count": null,
   "id": "517bd9ac",
   "metadata": {},
   "outputs": [],
   "source": []
  }
 ],
 "metadata": {
  "interpreter": {
   "hash": "66e8bf95e292ade856dd77b6ddbe3e4b1b60ffb85bf48f503c57bd4ca38cd30d"
  },
  "kernelspec": {
   "display_name": "Python 3.9.8 64-bit",
   "name": "python3"
  },
  "language_info": {
   "codemirror_mode": {
    "name": "ipython",
    "version": 3
   },
   "file_extension": ".py",
   "mimetype": "text/x-python",
   "name": "python",
   "nbconvert_exporter": "python",
   "pygments_lexer": "ipython3",
   "version": "3.8.10"
  }
 },
 "nbformat": 4,
 "nbformat_minor": 5
}
