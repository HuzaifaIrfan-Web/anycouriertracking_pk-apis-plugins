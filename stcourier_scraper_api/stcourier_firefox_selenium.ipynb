{
 "cells": [
  {
   "cell_type": "code",
   "execution_count": 5,
   "id": "0a332c02",
   "metadata": {},
   "outputs": [],
   "source": [
    "\n",
    "from bs4 import BeautifulSoup\n",
    "\n",
    "import uuid\n",
    "\n",
    "import time\n",
    "\n",
    "from selenium import webdriver\n",
    "from selenium.webdriver.common.by import By\n",
    "from selenium.webdriver.support.ui import WebDriverWait\n",
    "from selenium.webdriver.support import expected_conditions as EC\n",
    "\n",
    "from selenium.webdriver.firefox.options import Options as FirefoxOptions\n",
    "\n",
    "firefox_opt = FirefoxOptions()\n",
    "# firefox_opt.add_argument(\"--headless\")\n",
    "# firefox_opt.set_preference('permissions.default.stylesheet', 2)\n",
    "# firefox_opt.set_preference('permissions.default.image', 2)\n",
    "# firefox_opt.set_preference('dom.ipc.plugins.enabled.libflashplayer.so', 'false')\n"
   ]
  },
  {
   "cell_type": "code",
   "execution_count": 7,
   "id": "eed4d587",
   "metadata": {},
   "outputs": [],
   "source": []
  },
  {
   "cell_type": "code",
   "execution_count": 8,
   "id": "dd52854d",
   "metadata": {},
   "outputs": [],
   "source": [
    "\n",
    "\n"
   ]
  },
  {
   "cell_type": "code",
   "execution_count": 117,
   "id": "334c76ac",
   "metadata": {},
   "outputs": [],
   "source": []
  },
  {
   "cell_type": "code",
   "execution_count": 118,
   "id": "8f111cf1",
   "metadata": {},
   "outputs": [],
   "source": []
  },
  {
   "cell_type": "code",
   "execution_count": 119,
   "id": "a6dc56b8",
   "metadata": {},
   "outputs": [],
   "source": [
    "\n",
    "\n"
   ]
  },
  {
   "cell_type": "code",
   "execution_count": 6,
   "id": "99c95d07",
   "metadata": {},
   "outputs": [],
   "source": [
    "def return_captcha_image(driver):\n",
    "    captcha_image=driver.find_element_by_xpath('//*[@id=\"captchaimg\"]').screenshot_as_png\n",
    "    while(len(captcha_image)< 200):\n",
    "        len(captcha_image)\n",
    "        captcha_image=driver.find_element_by_xpath('//*[@id=\"captchaimg\"]').screenshot_as_png\n",
    "\n",
    "    return captcha_image\n",
    "\n",
    "\n",
    "\n"
   ]
  },
  {
   "cell_type": "code",
   "execution_count": 18,
   "id": "ec7f7a78",
   "metadata": {},
   "outputs": [],
   "source": [
    "import uuid\n",
    "import os\n",
    "\n",
    "\n",
    "def save_captcha_image(captcha_image):\n",
    "\n",
    "    tmp_captchas_folder='tmp_captchas'\n",
    "\n",
    "    if not os.path.exists(tmp_captchas_folder):\n",
    "        os.makedirs(tmp_captchas_folder)\n",
    "    captcha_file_name = str(uuid.uuid4())\n",
    "\n",
    "    captcha_path=f'{tmp_captchas_folder}/{captcha_file_name}.png'\n",
    "\n",
    "    with open(captcha_path, 'wb') as file:\n",
    "        file.write(captcha_image)\n",
    "    \n",
    "    print(captcha_path)\n",
    "    return captcha_path\n",
    "\n"
   ]
  },
  {
   "cell_type": "code",
   "execution_count": 102,
   "id": "6488da59",
   "metadata": {},
   "outputs": [],
   "source": []
  },
  {
   "cell_type": "code",
   "execution_count": 103,
   "id": "fd09da45",
   "metadata": {},
   "outputs": [
    {
     "name": "stdout",
     "output_type": "stream",
     "text": [
      "tmp_captcha/91e1ac4a-7a4e-426a-8f43-d0835bf204b3.png\n"
     ]
    }
   ],
   "source": [
    "\n"
   ]
  },
  {
   "cell_type": "code",
   "execution_count": 104,
   "id": "e451902b",
   "metadata": {},
   "outputs": [
    {
     "data": {
      "text/plain": [
       "'mnxx'"
      ]
     },
     "execution_count": 104,
     "metadata": {},
     "output_type": "execute_result"
    }
   ],
   "source": []
  },
  {
   "cell_type": "code",
   "execution_count": 19,
   "id": "f796d0d3",
   "metadata": {},
   "outputs": [],
   "source": [
    "\n",
    "def use_captcha_solution(driver, captcha_solution):\n",
    "    # eleUserMessage = driver.find_element_by_id(\"track_no\")\n",
    "    eleUserMessage = driver.find_element(By.ID, \"captcha_code\")\n",
    "    eleUserMessage.clear()\n",
    "    eleUserMessage.send_keys(captcha_solution)\n",
    "\n",
    "\n",
    "    # driver.find_element_by_id('btnload').click()\n",
    "    driver.find_element(By.ID , \"SEARCH\").click()\n",
    "\n",
    "\n",
    "\n",
    "\n"
   ]
  },
  {
   "cell_type": "code",
   "execution_count": null,
   "id": "a847c262",
   "metadata": {},
   "outputs": [],
   "source": []
  },
  {
   "cell_type": "code",
   "execution_count": 9,
   "id": "7479b079",
   "metadata": {},
   "outputs": [],
   "source": [
    "import time\n",
    "\n",
    "def check_validation(driver):\n",
    "    time.sleep(3)\n",
    "\n",
    "    try:\n",
    "\n",
    "        warning_text=driver.find_element_by_xpath('//*[@class=\"alert text-center alert-warning\"]')\n",
    "        print(warning_text.text)\n",
    "        return False\n",
    "\n",
    "    except:\n",
    "        print('Validation correct')\n",
    "        return True\n",
    "    \n",
    "\n",
    "\n",
    "    "
   ]
  },
  {
   "cell_type": "code",
   "execution_count": 10,
   "id": "50112ea1",
   "metadata": {},
   "outputs": [],
   "source": [
    "from stcourier_captcha_solver import captcha_solver"
   ]
  },
  {
   "cell_type": "code",
   "execution_count": 11,
   "id": "fd368019",
   "metadata": {},
   "outputs": [],
   "source": [
    "tracking_number_text=63346811006\n"
   ]
  },
  {
   "cell_type": "code",
   "execution_count": 12,
   "id": "6ce85cec",
   "metadata": {},
   "outputs": [],
   "source": [
    "url='http://www.erpstcourier.com/awb_tracking2.php?keyword='\n",
    "\n",
    "url=url+str(tracking_number_text)"
   ]
  },
  {
   "cell_type": "code",
   "execution_count": 13,
   "id": "008a983f",
   "metadata": {},
   "outputs": [],
   "source": [
    "driver = webdriver.Firefox(options=firefox_opt)\n"
   ]
  },
  {
   "cell_type": "code",
   "execution_count": 21,
   "id": "7ca2741b",
   "metadata": {},
   "outputs": [
    {
     "name": "stdout",
     "output_type": "stream",
     "text": [
      "tmp_captchas/5138a61e-aad2-4ec6-bdb5-5d7a43305e1f.png\n",
      "tmp_captchas/5138a61e-aad2-4ec6-bdb5-5d7a43305e1f.png\n",
      "h95n\n",
      "Validation correct\n"
     ]
    }
   ],
   "source": [
    "driver.get(url)\n",
    "running=True\n",
    "while(running):\n",
    "\n",
    "    captcha_image=return_captcha_image(driver)\n",
    "    captcha_path=save_captcha_image(captcha_image)\n",
    "    captcha_solution = captcha_solver(captcha_path)\n",
    "    print(captcha_solution)\n",
    "    use_captcha_solution(driver,captcha_solution)\n",
    "    running = not check_validation(driver)\n"
   ]
  },
  {
   "cell_type": "code",
   "execution_count": null,
   "id": "226da5c9",
   "metadata": {},
   "outputs": [],
   "source": [
    "\n",
    "\n",
    "els=[]\n",
    "\n",
    "\n",
    "try:\n",
    "    WebDriverWait(driver, 10).until(EC.presence_of_element_located((By.XPATH, \"//*[@class='maintrackcls']\")))\n",
    "\n",
    "    # els = driver.find_elements_by_class_name('maintrackcls')\n",
    "    els = driver.find_elements(By.CLASS_NAME, \"maintrackcls\")\n",
    "\n",
    "    # print(els)\n",
    "\n",
    "except:\n",
    "    print('No data Found')\n",
    "\n",
    "# driver.close()\n",
    "\n",
    "# driver.quit()\n",
    "\n",
    "elhtmls=[]\n",
    "\n",
    "for el in els:\n",
    "    elhtmls.append(el.get_attribute('innerHTML'))"
   ]
  },
  {
   "cell_type": "code",
   "execution_count": 12,
   "id": "a883afb6",
   "metadata": {},
   "outputs": [],
   "source": [
    "\n",
    "soup=''\n",
    "for elhtml in elhtmls:\n",
    "    soup = BeautifulSoup(elhtml, 'html.parser')"
   ]
  },
  {
   "cell_type": "code",
   "execution_count": 13,
   "id": "2d2b03a4",
   "metadata": {},
   "outputs": [
    {
     "name": "stdout",
     "output_type": "stream",
     "text": [
      "status_time not found\n",
      "signed not found\n"
     ]
    }
   ],
   "source": [
    "\n",
    "#Tracking Number\n",
    "# consignmentNo\n",
    "track_no = soup.find(class_=\"cls-trackno\").text\n",
    "\n",
    "#Agent Reference Number\n",
    "\n",
    "agent_no = soup.find(class_=\"cls-agent-ref-no\").text\n",
    "\n",
    "#Origin\n",
    "\n",
    "origin = soup.find(class_=\"cls-origin\").text\n",
    "\n",
    "#Destination\n",
    "\n",
    "destination=soup.find(class_=\"cls-destination\").text\n",
    "\n",
    "#Booking Date\n",
    "\n",
    "booking_date=soup.find(class_=\"cls-booking-date\").text\n",
    "\n",
    "#Shipper\n",
    "\n",
    "shipper=soup.find(class_=\"cls-shipper\").text\n",
    "\n",
    "#Consignee\n",
    "\n",
    "consignee=soup.find(class_=\"cls-consignee\").text\n",
    "\n",
    "#Status\n",
    "\n",
    "status=soup.find(class_=\"cls-red-sp\").text\n",
    "\n",
    "#Status Time\n",
    "try:\n",
    "    status_time=soup.find(class_=\"cls-datetime\").text\n",
    "    status_time=status_time.replace('\\n','')\n",
    "    status_time=status_time.split(\":\", 1)[1]\n",
    "except:\n",
    "    print('status_time not found')\n",
    "\n",
    "#Signed By\n",
    "try:\n",
    "    signed=soup.find(class_=\"cls-signed-by\").text\n",
    "    signed=signed.replace('\\n','')\n",
    "    signed=signed.split(\":\", 1)[1]\n",
    "except:\n",
    "    print('signed not found')\n",
    "\n"
   ]
  },
  {
   "cell_type": "code",
   "execution_count": 14,
   "id": "57fc899a",
   "metadata": {},
   "outputs": [],
   "source": [
    "history=[]\n",
    "\n",
    "table_rows = soup.find_all(\"tr\")\n",
    "\n",
    "for i,row in enumerate(table_rows):\n",
    "    if i==0:\n",
    "        continue\n",
    "\n",
    "    cols = row.find_all(\"td\")\n",
    "\n",
    "\n",
    "    history_obj={'time':cols[0].text,'status':cols[1].text,'location':cols[2].text}\n",
    "\n",
    "    history.append(history_obj)"
   ]
  },
  {
   "cell_type": "code",
   "execution_count": 15,
   "id": "5f30b3a6",
   "metadata": {},
   "outputs": [],
   "source": [
    "\n",
    "track_obj={'consignmentNo':track_no,'agent_no':agent_no,'origin':origin,'destination':destination,'booking_date':booking_date,'shipper':shipper,'consignee':consignee,'status':status,'status_time':status_time,'signed':signed,'history':history}\n",
    "\n"
   ]
  },
  {
   "cell_type": "code",
   "execution_count": 16,
   "id": "2a1a66e8",
   "metadata": {},
   "outputs": [
    {
     "name": "stdout",
     "output_type": "stream",
     "text": [
      "{'consignmentNo': '30095569487', 'agent_no': 'NA', 'origin': 'KARACHI', 'destination': 'ISLAMABAD', 'booking_date': '19-NOV-21 22:46', 'shipper': 'NAYAPAY (PVT) LTD', 'consignee': 'Muhammad Wasif Laeeq', 'status': 'In Transit', 'status_time': '\\n', 'signed': '', 'history': []}\n"
     ]
    }
   ],
   "source": [
    "print(track_obj)"
   ]
  },
  {
   "cell_type": "code",
   "execution_count": null,
   "id": "517bd9ac",
   "metadata": {},
   "outputs": [],
   "source": []
  }
 ],
 "metadata": {
  "interpreter": {
   "hash": "66e8bf95e292ade856dd77b6ddbe3e4b1b60ffb85bf48f503c57bd4ca38cd30d"
  },
  "kernelspec": {
   "display_name": "Python 3.9.8 64-bit",
   "name": "python3"
  },
  "language_info": {
   "codemirror_mode": {
    "name": "ipython",
    "version": 3
   },
   "file_extension": ".py",
   "mimetype": "text/x-python",
   "name": "python",
   "nbconvert_exporter": "python",
   "pygments_lexer": "ipython3",
   "version": "3.8.10"
  }
 },
 "nbformat": 4,
 "nbformat_minor": 5
}
