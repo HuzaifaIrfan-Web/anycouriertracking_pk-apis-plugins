{
 "cells": [
  {
   "cell_type": "code",
   "execution_count": 2,
   "id": "0a332c02",
   "metadata": {},
   "outputs": [],
   "source": [
    "\n",
    "from bs4 import BeautifulSoup\n",
    "\n",
    "import uuid\n",
    "\n",
    "import time\n",
    "\n",
    "from selenium import webdriver\n",
    "from selenium.webdriver.common.by import By\n",
    "from selenium.webdriver.support.ui import WebDriverWait\n",
    "from selenium.webdriver.support import expected_conditions as EC\n",
    "\n",
    "from selenium.webdriver.firefox.options import Options as FirefoxOptions\n",
    "\n",
    "firefox_opt = FirefoxOptions()\n",
    "# firefox_opt.add_argument(\"--headless\")\n",
    "firefox_opt.set_preference('permissions.default.stylesheet', 2)\n",
    "firefox_opt.set_preference('permissions.default.image', 2)\n",
    "firefox_opt.set_preference('dom.ipc.plugins.enabled.libflashplayer.so', 'false')\n",
    "\n",
    "\n",
    "from selenium.webdriver.chrome.options import Options\n",
    "chrome_opt = Options()\n",
    "# chrome_opt.add_argument('--headless')\n",
    "chrome_opt.add_argument('--no-sandbox')\n",
    "chrome_opt.add_argument('--disable-dev-sh--usage')\n"
   ]
  },
  {
   "cell_type": "code",
   "execution_count": 3,
   "id": "fd368019",
   "metadata": {},
   "outputs": [],
   "source": [
    "tracking_number_text='INTLCMC413042332'\n"
   ]
  },
  {
   "cell_type": "code",
   "execution_count": 4,
   "id": "6ce85cec",
   "metadata": {},
   "outputs": [],
   "source": [
    "url='https://intelcom.ca/en/track-your-package/?tracking-id='\n",
    "\n",
    "url=url+str(tracking_number_text)"
   ]
  },
  {
   "cell_type": "code",
   "execution_count": 5,
   "id": "008a983f",
   "metadata": {},
   "outputs": [],
   "source": [
    "# driver = webdriver.Firefox(options=firefox_opt)\n",
    "driver = webdriver.Chrome(options=chrome_opt)\n"
   ]
  },
  {
   "cell_type": "code",
   "execution_count": 6,
   "id": "a95fc18b",
   "metadata": {},
   "outputs": [],
   "source": [
    "driver.get(url)\n",
    "time.sleep(2)"
   ]
  },
  {
   "cell_type": "code",
   "execution_count": 27,
   "id": "3506a7d4",
   "metadata": {},
   "outputs": [],
   "source": [
    "\n",
    "\n",
    "eleUserMessage = driver.find_element(By.ID, \"ContentPlaceHolder1_txtCNote\")\n",
    "eleUserMessage.clear()\n",
    "eleUserMessage.send_keys(tracking_number_text)"
   ]
  },
  {
   "cell_type": "code",
   "execution_count": 28,
   "id": "e130b5dc",
   "metadata": {},
   "outputs": [],
   "source": [
    "driver.find_element(By.ID , \"ContentPlaceHolder1_btnSearch\").click()"
   ]
  },
  {
   "cell_type": "code",
   "execution_count": 32,
   "id": "7ca2741b",
   "metadata": {},
   "outputs": [],
   "source": []
  },
  {
   "cell_type": "code",
   "execution_count": null,
   "id": "87e49d2b",
   "metadata": {},
   "outputs": [],
   "source": []
  },
  {
   "cell_type": "code",
   "execution_count": 7,
   "id": "98647b14",
   "metadata": {},
   "outputs": [],
   "source": [
    "from selenium.webdriver.common.by import By\n",
    "from selenium.webdriver.support.ui import WebDriverWait\n",
    "from selenium.webdriver.support import expected_conditions as EC"
   ]
  },
  {
   "cell_type": "code",
   "execution_count": 71,
   "id": "4895e5df",
   "metadata": {},
   "outputs": [],
   "source": [
    "# body = driver.find_element(By.TAG_NAME , \"body\")\n",
    "\n",
    "body = driver.find_element(By.CLASS_NAME , \"js-tracking-details\")\n"
   ]
  },
  {
   "cell_type": "code",
   "execution_count": null,
   "id": "d40c8070",
   "metadata": {},
   "outputs": [],
   "source": []
  },
  {
   "cell_type": "code",
   "execution_count": 72,
   "id": "88ce4640",
   "metadata": {},
   "outputs": [],
   "source": [
    "\n",
    "innerHtml=body.get_attribute('innerHTML')"
   ]
  },
  {
   "cell_type": "code",
   "execution_count": 73,
   "id": "6a7741e5",
   "metadata": {},
   "outputs": [],
   "source": [
    "from bs4 import BeautifulSoup\n",
    "soup = BeautifulSoup(innerHtml, 'html.parser')"
   ]
  },
  {
   "cell_type": "code",
   "execution_count": 61,
   "id": "ec191d67",
   "metadata": {},
   "outputs": [
    {
     "data": {
      "text/plain": [
       "<div class=\"js-tracking-progress-template _tracking-details-progress-ctn\" data-index=\"0\" style=\"grid-row: 1 / auto;\"><div class=\"_tracking-details-progress-node text-accent\"><svg class=\"_tracking-details-checkmark\" fill=\"none\" viewbox=\"0 0 20 14\" xmlns=\"http://www.w3.org/2000/svg\"><path d=\"M2.80078 6.99995L7.99623 11.8L17.2008 2.19995\" stroke=\"white\" stroke-linecap=\"round\" stroke-linejoin=\"round\" stroke-width=\"4\"></path></svg></div><div class=\"_tracking-details-progress-bar\"></div></div><div class=\"js-tracking-result\" data-index=\"0\" style=\"grid-area: 1 / 2 / auto / auto;\"><p class=\"js-tracking-result-title text-60 pb-10 font-semibold font-alt leading-20\">Package delivered with signature </p><p class=\"js-tracking-result-title _font-module-text text-40\">The package was delivered and signed for. If the signature received in the delivery confirmation email is not yours or that of a member of your household, please contact the merchant for assistance.</p><p class=\"js-tracking-result-date text-40 font-alt font-light leading-20 text-alt mt-8 flex items-center\"><svg class=\"w-45 h-45 mr-6 opacity-50\" fill=\"none\" viewbox=\"0 0 16 16\" xmlns=\"http://www.w3.org/2000/svg\"><path clip-rule=\"evenodd\" d=\"M13 8C13 10.7614 10.7614 13 8 13C5.23858 13 3 10.7614 3 8C3 5.23858 5.23858 3 8 3C10.7614 3 13 5.23858 13 8ZM7.16667 8.83333V5.5H8.66667V8L10.5 8V9.5L7.16667 9.5L7.16667 8.83333Z\" fill=\"#778F99\" fill-rule=\"evenodd\"></path></svg>\n",
       "\t\t\t\t\t\t2022-01-24, 11:08 PM\n",
       "\t\t\t\t\t</p></div><div class=\"js-tracking-progress-template _tracking-details-progress-ctn\" data-index=\"1\" style=\"grid-row: 2 / auto;\"><div class=\"_tracking-details-progress-node text-accent\"><svg class=\"_tracking-details-checkmark\" fill=\"none\" viewbox=\"0 0 20 14\" xmlns=\"http://www.w3.org/2000/svg\"><path d=\"M2.80078 6.99995L7.99623 11.8L17.2008 2.19995\" stroke=\"white\" stroke-linecap=\"round\" stroke-linejoin=\"round\" stroke-width=\"4\"></path></svg></div><div class=\"_tracking-details-progress-bar\"></div></div><div class=\"js-tracking-result\" data-index=\"1\" style=\"grid-area: 2 / 2 / auto / auto;\"><p class=\"js-tracking-result-title text-60 pb-10 font-semibold font-alt leading-20\">Package out for delivery</p><p class=\"js-tracking-result-title _font-module-text text-40\">The package is on it’s way! We deliver between 8 a.m. and 9 p.m., 7 days a week.</p><p class=\"js-tracking-result-date text-40 font-alt font-light leading-20 text-alt mt-8 flex items-center\"><svg class=\"w-45 h-45 mr-6 opacity-50\" fill=\"none\" viewbox=\"0 0 16 16\" xmlns=\"http://www.w3.org/2000/svg\"><path clip-rule=\"evenodd\" d=\"M13 8C13 10.7614 10.7614 13 8 13C5.23858 13 3 10.7614 3 8C3 5.23858 5.23858 3 8 3C10.7614 3 13 5.23858 13 8ZM7.16667 8.83333V5.5H8.66667V8L10.5 8V9.5L7.16667 9.5L7.16667 8.83333Z\" fill=\"#778F99\" fill-rule=\"evenodd\"></path></svg>\n",
       "\t\t\t\t\t\t2022-01-24, 5:50 PM\n",
       "\t\t\t\t\t</p></div><div class=\"js-tracking-progress-template _tracking-details-progress-ctn\" data-index=\"2\" style=\"grid-row: 3 / auto;\"><div class=\"_tracking-details-progress-node text-accent\"><svg class=\"_tracking-details-checkmark\" fill=\"none\" viewbox=\"0 0 20 14\" xmlns=\"http://www.w3.org/2000/svg\"><path d=\"M2.80078 6.99995L7.99623 11.8L17.2008 2.19995\" stroke=\"white\" stroke-linecap=\"round\" stroke-linejoin=\"round\" stroke-width=\"4\"></path></svg></div><div class=\"_tracking-details-progress-bar\"></div></div><div class=\"js-tracking-result\" data-index=\"2\" style=\"grid-area: 3 / 2 / auto / auto;\"><p class=\"js-tracking-result-title text-60 pb-10 font-semibold font-alt leading-20\">Package returned to warehouse</p><p class=\"js-tracking-result-title _font-module-text text-40\">The shipment has been returned to our warehouse. Deliveries will automatically be rescheduled for the next business day.</p><p class=\"js-tracking-result-date text-40 font-alt font-light leading-20 text-alt mt-8 flex items-center\"><svg class=\"w-45 h-45 mr-6 opacity-50\" fill=\"none\" viewbox=\"0 0 16 16\" xmlns=\"http://www.w3.org/2000/svg\"><path clip-rule=\"evenodd\" d=\"M13 8C13 10.7614 10.7614 13 8 13C5.23858 13 3 10.7614 3 8C3 5.23858 5.23858 3 8 3C10.7614 3 13 5.23858 13 8ZM7.16667 8.83333V5.5H8.66667V8L10.5 8V9.5L7.16667 9.5L7.16667 8.83333Z\" fill=\"#778F99\" fill-rule=\"evenodd\"></path></svg>\n",
       "\t\t\t\t\t\t2022-01-24, 5:52 AM\n",
       "\t\t\t\t\t</p></div><div class=\"js-tracking-progress-template _tracking-details-progress-ctn\" data-index=\"3\" style=\"grid-row: 4 / auto;\"><div class=\"_tracking-details-progress-node text-accent\"><svg class=\"_tracking-details-checkmark\" fill=\"none\" viewbox=\"0 0 20 14\" xmlns=\"http://www.w3.org/2000/svg\"><path d=\"M2.80078 6.99995L7.99623 11.8L17.2008 2.19995\" stroke=\"white\" stroke-linecap=\"round\" stroke-linejoin=\"round\" stroke-width=\"4\"></path></svg></div><div class=\"_tracking-details-progress-bar\"></div></div><div class=\"js-tracking-result\" data-index=\"3\" style=\"grid-area: 4 / 2 / auto / auto;\"><p class=\"js-tracking-result-title text-60 pb-10 font-semibold font-alt leading-20\">Delivery or return pickup attempt</p><p class=\"js-tracking-result-title _font-module-text text-40\">We attempted to deliver your package or pick up your return. A delivery will automatically be rescheduled for delivery on the next business day. To reschedule your return pickup, please call us at 1 844 370-5096 or 514 370-5096.</p><p class=\"js-tracking-result-date text-40 font-alt font-light leading-20 text-alt mt-8 flex items-center\"><svg class=\"w-45 h-45 mr-6 opacity-50\" fill=\"none\" viewbox=\"0 0 16 16\" xmlns=\"http://www.w3.org/2000/svg\"><path clip-rule=\"evenodd\" d=\"M13 8C13 10.7614 10.7614 13 8 13C5.23858 13 3 10.7614 3 8C3 5.23858 5.23858 3 8 3C10.7614 3 13 5.23858 13 8ZM7.16667 8.83333V5.5H8.66667V8L10.5 8V9.5L7.16667 9.5L7.16667 8.83333Z\" fill=\"#778F99\" fill-rule=\"evenodd\"></path></svg>\n",
       "\t\t\t\t\t\t2022-01-24, 3:51 AM\n",
       "\t\t\t\t\t</p></div><div class=\"js-tracking-progress-template _tracking-details-progress-ctn\" data-index=\"4\" style=\"grid-row: 5 / auto;\"><div class=\"_tracking-details-progress-node text-accent\"><svg class=\"_tracking-details-checkmark\" fill=\"none\" viewbox=\"0 0 20 14\" xmlns=\"http://www.w3.org/2000/svg\"><path d=\"M2.80078 6.99995L7.99623 11.8L17.2008 2.19995\" stroke=\"white\" stroke-linecap=\"round\" stroke-linejoin=\"round\" stroke-width=\"4\"></path></svg></div><div class=\"_tracking-details-progress-bar\"></div></div><div class=\"js-tracking-result\" data-index=\"4\" style=\"grid-area: 5 / 2 / auto / auto;\"><p class=\"js-tracking-result-title text-60 pb-10 font-semibold font-alt leading-20\">Package out for delivery</p><p class=\"js-tracking-result-title _font-module-text text-40\">The package is on it’s way! We deliver between 8 a.m. and 9 p.m., 7 days a week.</p><p class=\"js-tracking-result-date text-40 font-alt font-light leading-20 text-alt mt-8 flex items-center\"><svg class=\"w-45 h-45 mr-6 opacity-50\" fill=\"none\" viewbox=\"0 0 16 16\" xmlns=\"http://www.w3.org/2000/svg\"><path clip-rule=\"evenodd\" d=\"M13 8C13 10.7614 10.7614 13 8 13C5.23858 13 3 10.7614 3 8C3 5.23858 5.23858 3 8 3C10.7614 3 13 5.23858 13 8ZM7.16667 8.83333V5.5H8.66667V8L10.5 8V9.5L7.16667 9.5L7.16667 8.83333Z\" fill=\"#778F99\" fill-rule=\"evenodd\"></path></svg>\n",
       "\t\t\t\t\t\t2022-01-23, 5:32 PM\n",
       "\t\t\t\t\t</p></div><div class=\"js-tracking-progress-template _tracking-details-progress-ctn\" data-index=\"5\" style=\"grid-row: 6 / auto;\"><div class=\"_tracking-details-progress-node text-accent\"><svg class=\"_tracking-details-checkmark\" fill=\"none\" viewbox=\"0 0 20 14\" xmlns=\"http://www.w3.org/2000/svg\"><path d=\"M2.80078 6.99995L7.99623 11.8L17.2008 2.19995\" stroke=\"white\" stroke-linecap=\"round\" stroke-linejoin=\"round\" stroke-width=\"4\"></path></svg></div><div class=\"_tracking-details-progress-bar\"></div></div><div class=\"js-tracking-result\" data-index=\"5\" style=\"grid-area: 6 / 2 / auto / auto;\"><p class=\"js-tracking-result-title text-60 pb-10 font-semibold font-alt leading-20\">Package received at the delivering warehouse</p><p class=\"js-tracking-result-title _font-module-text text-40\">The package has been received at our delivering warehouse. The package will soon be out for delivery.</p><p class=\"js-tracking-result-date text-40 font-alt font-light leading-20 text-alt mt-8 flex items-center\"><svg class=\"w-45 h-45 mr-6 opacity-50\" fill=\"none\" viewbox=\"0 0 16 16\" xmlns=\"http://www.w3.org/2000/svg\"><path clip-rule=\"evenodd\" d=\"M13 8C13 10.7614 10.7614 13 8 13C5.23858 13 3 10.7614 3 8C3 5.23858 5.23858 3 8 3C10.7614 3 13 5.23858 13 8ZM7.16667 8.83333V5.5H8.66667V8L10.5 8V9.5L7.16667 9.5L7.16667 8.83333Z\" fill=\"#778F99\" fill-rule=\"evenodd\"></path></svg>\n",
       "\t\t\t\t\t\t2022-01-23, 2:31 PM\n",
       "\t\t\t\t\t</p></div><div class=\"js-tracking-progress-template _tracking-details-progress-ctn\" data-index=\"6\" style=\"grid-row: 7 / auto;\"><div class=\"_tracking-details-progress-node text-accent\"><svg class=\"_tracking-details-checkmark\" fill=\"none\" viewbox=\"0 0 20 14\" xmlns=\"http://www.w3.org/2000/svg\"><path d=\"M2.80078 6.99995L7.99623 11.8L17.2008 2.19995\" stroke=\"white\" stroke-linecap=\"round\" stroke-linejoin=\"round\" stroke-width=\"4\"></path></svg></div><div class=\"_tracking-details-progress-bar\"></div></div><div class=\"js-tracking-result\" data-index=\"6\" style=\"grid-area: 7 / 2 / auto / auto;\"><p class=\"js-tracking-result-title text-60 pb-10 font-semibold font-alt leading-20\">Information submitted by merchant</p><p class=\"js-tracking-result-title _font-module-text text-40\">The merchant has shared the information on the package with us. More information will be available shortly.</p><p class=\"js-tracking-result-date text-40 font-alt font-light leading-20 text-alt mt-8 flex items-center\"><svg class=\"w-45 h-45 mr-6 opacity-50\" fill=\"none\" viewbox=\"0 0 16 16\" xmlns=\"http://www.w3.org/2000/svg\"><path clip-rule=\"evenodd\" d=\"M13 8C13 10.7614 10.7614 13 8 13C5.23858 13 3 10.7614 3 8C3 5.23858 5.23858 3 8 3C10.7614 3 13 5.23858 13 8ZM7.16667 8.83333V5.5H8.66667V8L10.5 8V9.5L7.16667 9.5L7.16667 8.83333Z\" fill=\"#778F99\" fill-rule=\"evenodd\"></path></svg>\n",
       "\t\t\t\t\t\t2022-01-22, 10:39 AM\n",
       "\t\t\t\t\t</p></div>"
      ]
     },
     "execution_count": 61,
     "metadata": {},
     "output_type": "execute_result"
    }
   ],
   "source": [
    "soup"
   ]
  },
  {
   "cell_type": "code",
   "execution_count": 74,
   "id": "7a44155d",
   "metadata": {},
   "outputs": [],
   "source": [
    "js_tracking_results=soup.find_all('div', attrs={'class': 'js-tracking-result'})"
   ]
  },
  {
   "cell_type": "code",
   "execution_count": 75,
   "id": "81b7871f",
   "metadata": {},
   "outputs": [
    {
     "data": {
      "text/plain": [
       "[]"
      ]
     },
     "execution_count": 75,
     "metadata": {},
     "output_type": "execute_result"
    }
   ],
   "source": [
    "js_tracking_results"
   ]
  },
  {
   "cell_type": "code",
   "execution_count": 76,
   "id": "fb30d49d",
   "metadata": {},
   "outputs": [
    {
     "name": "stdout",
     "output_type": "stream",
     "text": [
      "False\n"
     ]
    }
   ],
   "source": [
    "if(js_tracking_results):\n",
    "    print(True)\n",
    "else:\n",
    "    print(False)"
   ]
  },
  {
   "cell_type": "code",
   "execution_count": 77,
   "id": "8dd0cb84",
   "metadata": {},
   "outputs": [],
   "source": [
    "track_histories=[]\n",
    "\n",
    "for js_tracking_result in js_tracking_results:\n",
    "    ps=js_tracking_result.find_all(\"p\")\n",
    "\n",
    "    try:\n",
    "        track_title = ps[0].text.strip()\n",
    "    except:\n",
    "        track_title=''\n",
    "        \n",
    "    try:\n",
    "        track_text = ps[1].text.strip()\n",
    "    except:\n",
    "        track_text=''\n",
    "\n",
    "    try:\n",
    "        datetime = ps[2].text.strip()\n",
    "    except:\n",
    "        datetime=''\n",
    "\n",
    "\n",
    "\n",
    "    track_history={\n",
    "        'track_title':track_title,\n",
    "        'track_text':track_text,\n",
    "        'datetime':datetime,\n",
    "    }\n",
    "\n",
    "    track_histories.append(track_history)\n",
    "\n",
    "\n",
    "\n",
    "    # try:\n",
    "    #     DELIVERY_STATUS.append(tds[1].text)\n",
    "    # except:\n",
    "    #     pass\n",
    "\n",
    "    "
   ]
  },
  {
   "cell_type": "code",
   "execution_count": 78,
   "id": "63da05d6",
   "metadata": {},
   "outputs": [
    {
     "data": {
      "text/plain": [
       "[]"
      ]
     },
     "execution_count": 78,
     "metadata": {},
     "output_type": "execute_result"
    }
   ],
   "source": [
    "track_histories"
   ]
  },
  {
   "cell_type": "code",
   "execution_count": 79,
   "id": "31ae207a",
   "metadata": {},
   "outputs": [],
   "source": [
    "return_obj={'tnum':tracking_number_text,'track_histories':track_histories}"
   ]
  },
  {
   "cell_type": "code",
   "execution_count": 80,
   "id": "6a06827d",
   "metadata": {},
   "outputs": [
    {
     "data": {
      "text/plain": [
       "{'tnum': 'INTLCMC413042332', 'track_histories': []}"
      ]
     },
     "execution_count": 80,
     "metadata": {},
     "output_type": "execute_result"
    }
   ],
   "source": [
    "return_obj"
   ]
  }
 ],
 "metadata": {
  "interpreter": {
   "hash": "66e8bf95e292ade856dd77b6ddbe3e4b1b60ffb85bf48f503c57bd4ca38cd30d"
  },
  "kernelspec": {
   "display_name": "Python 3.9.8 64-bit",
   "name": "python3"
  },
  "language_info": {
   "codemirror_mode": {
    "name": "ipython",
    "version": 3
   },
   "file_extension": ".py",
   "mimetype": "text/x-python",
   "name": "python",
   "nbconvert_exporter": "python",
   "pygments_lexer": "ipython3",
   "version": "3.8.10"
  }
 },
 "nbformat": 4,
 "nbformat_minor": 5
}
